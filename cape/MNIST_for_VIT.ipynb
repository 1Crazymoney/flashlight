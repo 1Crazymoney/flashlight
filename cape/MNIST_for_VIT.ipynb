{
 "cells": [
  {
   "cell_type": "code",
   "execution_count": 1,
   "metadata": {},
   "outputs": [],
   "source": [
    "import torch, torchvision"
   ]
  },
  {
   "cell_type": "code",
   "execution_count": 2,
   "metadata": {},
   "outputs": [],
   "source": [
    "from torchvision.datasets import MNIST\n",
    "from matplotlib import pyplot as plt\n",
    "from einops import repeat"
   ]
  },
  {
   "cell_type": "code",
   "execution_count": 3,
   "metadata": {},
   "outputs": [],
   "source": [
    "# !pip install einops"
   ]
  },
  {
   "cell_type": "code",
   "execution_count": 4,
   "metadata": {},
   "outputs": [],
   "source": [
    "# data = MNIST(\"/datasets01/mnist-pytorch/11222017/\")"
   ]
  },
  {
   "cell_type": "code",
   "execution_count": 5,
   "metadata": {},
   "outputs": [],
   "source": [
    "# np.random.randint(0)"
   ]
  },
  {
   "cell_type": "code",
   "execution_count": 6,
   "metadata": {},
   "outputs": [],
   "source": [
    "import numpy as np\n",
    "\n",
    "\n",
    "def transform_dataset(dataset, target_size=56, scale=4):\n",
    "    images = []\n",
    "    targets = []\n",
    "    rng = np.random.RandomState(42)\n",
    "    for img, target in dataset:\n",
    "        targets.append(target)\n",
    "        img = np.asarray(img)\n",
    "        image = np.zeros([target_size, target_size], dtype=img.dtype)\n",
    "        shiftx = rng.randint(target_size - 28 + 1)\n",
    "        shifty = rng.randint(target_size - 28 + 1)\n",
    "        image[shiftx:shiftx + 28, shifty : shifty + 28] = img\n",
    "        image = repeat(image, 'h w -> (h hr) (w wr)', hr=scale, wr=scale)\n",
    "        images.append(image)\n",
    "    return images, targets"
   ]
  },
  {
   "cell_type": "code",
   "execution_count": 8,
   "metadata": {},
   "outputs": [],
   "source": [
    "images_test, target_test = transform_dataset( MNIST(\"/datasets01/mnist-pytorch/11222017/\", train=False))\n",
    "images_train, target_train = transform_dataset( MNIST(\"/datasets01/mnist-pytorch/11222017/\", ))"
   ]
  },
  {
   "cell_type": "code",
   "execution_count": 9,
   "metadata": {},
   "outputs": [
    {
     "data": {
      "text/plain": [
       "<matplotlib.image.AxesImage at 0x7f49da2525f8>"
      ]
     },
     "execution_count": 9,
     "metadata": {},
     "output_type": "execute_result"
    },
    {
     "data": {
      "image/png": "[encoded data removed]",
      "text/plain": [
       "<Figure size 432x288 with 1 Axes>"
      ]
     },
     "metadata": {},
     "output_type": "display_data"
    }
   ],
   "source": [
    "plt.imshow(images_test[4])"
   ]
  },
  {
   "cell_type": "code",
   "execution_count": 10,
   "metadata": {},
   "outputs": [
    {
     "data": {
      "text/plain": [
       "(10000, 60000)"
      ]
     },
     "execution_count": 10,
     "metadata": {},
     "output_type": "execute_result"
    }
   ],
   "source": [
    "len(target_test), len(target_train)"
   ]
  },
  {
   "cell_type": "code",
   "execution_count": 11,
   "metadata": {},
   "outputs": [],
   "source": [
    "for n, target in enumerate(target_test):\n",
    "    plt.imsave(f\"/checkpoint/antares/experiments/fl_new_master/augposemb/vit/mnist_our/val/{target}/{n}.png\", images_test[n])"
   ]
  },
  {
   "cell_type": "code",
   "execution_count": 12,
   "metadata": {},
   "outputs": [],
   "source": [
    "for n, target in enumerate(target_train):\n",
    "    plt.imsave(f\"/checkpoint/antares/experiments/fl_new_master/augposemb/vit/mnist_our/train/{target}/{n}.png\", images_train[n])"
   ]
  },
  {
   "cell_type": "code",
   "execution_count": 13,
   "metadata": {},
   "outputs": [
    {
     "data": {
      "text/plain": [
       "<matplotlib.image.AxesImage at 0x7f49da1760f0>"
      ]
     },
     "execution_count": 13,
     "metadata": {},
     "output_type": "execute_result"
    },
    {
     "data": {
      "image/png": "[encoded data removed]",
      "text/plain": [
       "<Figure size 432x288 with 1 Axes>"
      ]
     },
     "metadata": {},
     "output_type": "display_data"
    }
   ],
   "source": [
    "plt.imshow(plt.imread(\"/checkpoint/antares/experiments/fl_new_master/augposemb/vit/mnist_our/train/0/40428.png\"))"
   ]
  },
  {
   "cell_type": "code",
   "execution_count": 14,
   "metadata": {},
   "outputs": [],
   "source": [
    "images_test, target_test = transform_dataset( MNIST(\"/datasets01/mnist-pytorch/11222017/\", train=False), scale=6)\n",
    "images_train, target_train = transform_dataset( MNIST(\"/datasets01/mnist-pytorch/11222017/\"), scale=6)"
   ]
  },
  {
   "cell_type": "code",
   "execution_count": 17,
   "metadata": {},
   "outputs": [],
   "source": [
    "for n in range(10):\n",
    "    !mkdir -p /checkpoint/antares/experiments/fl_new_master/augposemb/vit/mnist_our_336/val/$n\n",
    "    !mkdir -p /checkpoint/antares/experiments/fl_new_master/augposemb/vit/mnist_our_336/train/$n\n",
    "    \n",
    "for n, target in enumerate(target_train):\n",
    "    plt.imsave(f\"/checkpoint/antares/experiments/fl_new_master/augposemb/vit/mnist_our_336/train/{target}/{n}.png\", images_train[n])\n",
    "\n",
    "for n, target in enumerate(target_test):\n",
    "    plt.imsave(f\"/checkpoint/antares/experiments/fl_new_master/augposemb/vit/mnist_our_336/val/{target}/{n}.png\", images_test[n])"
   ]
  },
  {
   "cell_type": "markdown",
   "metadata": {},
   "source": [
    "## Transformer with random patch "
   ]
  },
  {
   "cell_type": "code",
   "execution_count": 57,
   "metadata": {},
   "outputs": [],
   "source": [
    "def transform_dataset(dataset, target_size=56, scale=4):\n",
    "    images = []\n",
    "    targets = []\n",
    "    rng = np.random.RandomState(42)\n",
    "    all_img = [img for img, target in dataset]\n",
    "    for img, target in dataset:\n",
    "        targets.append(target)\n",
    "        img = np.asarray(img)\n",
    "        image = np.zeros([target_size, target_size], dtype=img.dtype)\n",
    "        for i in range(14):\n",
    "            for j in range(14):\n",
    "                i_patch = rng.randint(7)\n",
    "                j_patch = rng.randint(7)\n",
    "                patch = np.zeros([28, 28], dtype=img.dtype)\n",
    "                patch[:, :] = all_img[rng.randint(len(dataset))]\n",
    "                image[i * 4 : (i + 1) * 4, j * 4 : (j + 1) * 4] = patch[i_patch * 4 : (i_patch + 1) * 4, j_patch * 4 : (j_patch + 1) * 4]\n",
    "        shiftx = rng.randint(target_size - 28 + 1)\n",
    "        shifty = rng.randint(target_size - 28 + 1)\n",
    "        image[shiftx:shiftx + 28, shifty : shifty + 28] = img\n",
    "        image = repeat(image, 'h w -> (h hr) (w wr)', hr=scale, wr=scale)\n",
    "        images.append(image)\n",
    "    return images, targets"
   ]
  },
  {
   "cell_type": "code",
   "execution_count": 58,
   "metadata": {},
   "outputs": [],
   "source": [
    "images_test, target_test = transform_dataset( MNIST(\"/datasets01/mnist-pytorch/11222017/\", train=False), scale=6)\n",
    "images_train, target_train = transform_dataset( MNIST(\"/datasets01/mnist-pytorch/11222017/\"), scale=6)"
   ]
  },
  {
   "cell_type": "code",
   "execution_count": 66,
   "metadata": {},
   "outputs": [],
   "source": [
    "from einops import rearrange"
   ]
  },
  {
   "cell_type": "code",
   "execution_count": 71,
   "metadata": {},
   "outputs": [
    {
     "data": {
      "image/png": "[encoded data removed]",
      "text/plain": [
       "<PIL.Image.Image image mode=L size=420x420 at 0x7F49DA7987B8>"
      ]
     },
     "execution_count": 71,
     "metadata": {},
     "output_type": "execute_result"
    }
   ],
   "source": [
    "patches = rearrange(images_train[10], '(h h2) (w w2) -> h w h2 w2', h2=16, w2=16)\n",
    "patches = np.pad(patches, [(0, 0), (0, 0), (2, 2), (2, 2)], constant_values=128)\n",
    "patches = rearrange(patches, 'h w h2 w2 -> (h h2) (w w2)')\n",
    "from PIL import Image\n",
    "\n",
    "Image.fromarray(patches)"
   ]
  },
  {
   "cell_type": "code",
   "execution_count": 65,
   "metadata": {},
   "outputs": [
    {
     "data": {
      "text/plain": [
       "<matplotlib.image.AxesImage at 0x7f4c461ee5f8>"
      ]
     },
     "execution_count": 65,
     "metadata": {},
     "output_type": "execute_result"
    },
    {
     "data": {
      "image/png": "[encoded data removed]",
      "text/plain": [
       "<Figure size 432x288 with 1 Axes>"
      ]
     },
     "metadata": {},
     "output_type": "display_data"
    }
   ],
   "source": [
    "\n",
    "for i in range(14):\n",
    "    for j in range(14)\n",
    "        plt.imshow(images_train[10])"
   ]
  },
  {
   "cell_type": "code",
   "execution_count": 60,
   "metadata": {},
   "outputs": [],
   "source": [
    "for n in range(10):\n",
    "    !mkdir -p /checkpoint/antares/experiments/fl_new_master/augposemb/vit/mnist_our_random/val/$n\n",
    "    !mkdir -p /checkpoint/antares/experiments/fl_new_master/augposemb/vit/mnist_our_random/train/$n\n",
    "    \n",
    "for n, target in enumerate(target_train):\n",
    "    plt.imsave(f\"/checkpoint/antares/experiments/fl_new_master/augposemb/vit/mnist_our_random/train/{target}/{n}.png\", images_train[n])\n",
    "\n",
    "for n, target in enumerate(target_test):\n",
    "    plt.imsave(f\"/checkpoint/antares/experiments/fl_new_master/augposemb/vit/mnist_our_random/val/{target}/{n}.png\", images_test[n])"
   ]
  },
  {
   "cell_type": "markdown",
   "metadata": {},
   "source": [
    "## Random shuffle patches"
   ]
  },
  {
   "cell_type": "code",
   "execution_count": 122,
   "metadata": {},
   "outputs": [],
   "source": [
    "def shuffle_image(img, patch_size = 16):\n",
    "    patches = rearrange(img, '(h h2) (w w2) -> (h w) h2 w2', h2=patch_size, w2=patch_size)\n",
    "    patches = patches[np.random.permutation(len(patches))]\n",
    "    h = int(patches.shape[0] ** 0.5)\n",
    "    return rearrange(patches, '(h w) h2 w2 -> (h h2) (w w2)', w=h, h=h)"
   ]
  },
  {
   "cell_type": "code",
   "execution_count": 123,
   "metadata": {},
   "outputs": [],
   "source": [
    "def transform_dataset_permute(dataset, target_size=56, scale=4, shuffle=False):\n",
    "    images = []\n",
    "    targets = []\n",
    "    rng = np.random.RandomState(42)\n",
    "    all_img = [img for img, target in dataset]\n",
    "    for img, target in dataset:\n",
    "        targets.append(target)\n",
    "        img = np.asarray(img)\n",
    "        image = np.zeros([target_size, target_size], dtype=img.dtype)\n",
    "        for i in range(14):\n",
    "            for j in range(14):\n",
    "                i_patch = rng.randint(7)\n",
    "                j_patch = rng.randint(7)\n",
    "                patch = np.zeros([28, 28], dtype=img.dtype)\n",
    "                patch[:, :] = all_img[rng.randint(len(dataset))]\n",
    "                image[i * 4 : (i + 1) * 4, j * 4 : (j + 1) * 4] = patch[i_patch * 4 : (i_patch + 1) * 4, j_patch * 4 : (j_patch + 1) * 4]\n",
    "        shiftx = rng.randint(target_size - 28 + 1)\n",
    "        shifty = rng.randint(target_size - 28 + 1)\n",
    "        image[shiftx:shiftx + 28, shifty : shifty + 28] = img\n",
    "        image = repeat(image, 'h w -> (h hr) (w wr)', hr=scale, wr=scale)\n",
    "        if shuffle:\n",
    "            image = shuffle_image(image)\n",
    "        images.append(image)\n",
    "    return images, targets"
   ]
  },
  {
   "cell_type": "code",
   "execution_count": 124,
   "metadata": {},
   "outputs": [
    {
     "data": {
      "image/png": "[encoded data removed]",
      "text/plain": [
       "<Figure size 432x288 with 1 Axes>"
      ]
     },
     "metadata": {},
     "output_type": "display_data"
    }
   ],
   "source": [
    "images_test, target_test = transform_dataset_permute( MNIST(\"/datasets01/mnist-pytorch/11222017/\", train=False), scale=4, shuffle=True)\n",
    "images_train, target_train = transform_dataset_permute( MNIST(\"/datasets01/mnist-pytorch/11222017/\"), scale=4, shuffle=True)\n",
    "\n",
    "plt.imshow(images_train[10])\n",
    "\n",
    "for n in range(10):\n",
    "    !mkdir -p /checkpoint/antares/experiments/fl_new_master/augposemb/vit/mnist_our_random_permute_224/val/$n\n",
    "    !mkdir -p /checkpoint/antares/experiments/fl_new_master/augposemb/vit/mnist_our_random_permute_224/train/$n\n",
    "    \n",
    "for n, target in enumerate(target_train):\n",
    "    plt.imsave(f\"/checkpoint/antares/experiments/fl_new_master/augposemb/vit/mnist_our_random_permute_224/train/{target}/{n}.png\", images_train[n])\n",
    "\n",
    "for n, target in enumerate(target_test):\n",
    "    plt.imsave(f\"/checkpoint/antares/experiments/fl_new_master/augposemb/vit/mnist_our_random_permute_224/val/{target}/{n}.png\", images_test[n])"
   ]
  },
  {
   "cell_type": "code",
   "execution_count": 125,
   "metadata": {},
   "outputs": [
    {
     "data": {
      "image/png": "[encoded data removed]",
      "text/plain": [
       "<Figure size 432x288 with 1 Axes>"
      ]
     },
     "metadata": {},
     "output_type": "display_data"
    }
   ],
   "source": [
    "images_test, target_test = transform_dataset_permute( MNIST(\"/datasets01/mnist-pytorch/11222017/\", train=False), scale=4)\n",
    "images_train, target_train = transform_dataset_permute( MNIST(\"/datasets01/mnist-pytorch/11222017/\"), scale=4)\n",
    "\n",
    "plt.imshow(images_train[10])\n",
    "\n",
    "for n in range(10):\n",
    "    !mkdir -p /checkpoint/antares/experiments/fl_new_master/augposemb/vit/mnist_our_random_224/val/$n\n",
    "    !mkdir -p /checkpoint/antares/experiments/fl_new_master/augposemb/vit/mnist_our_random_224/train/$n\n",
    "    \n",
    "for n, target in enumerate(target_train):\n",
    "    plt.imsave(f\"/checkpoint/antares/experiments/fl_new_master/augposemb/vit/mnist_our_random_224/train/{target}/{n}.png\", images_train[n])\n",
    "\n",
    "for n, target in enumerate(target_test):\n",
    "    plt.imsave(f\"/checkpoint/antares/experiments/fl_new_master/augposemb/vit/mnist_our_random_224/val/{target}/{n}.png\", images_test[n])"
   ]
  },
  {
   "cell_type": "code",
   "execution_count": null,
   "metadata": {},
   "outputs": [],
   "source": []
  }
 ],
 "metadata": {
  "kernelspec": {
   "display_name": "Python 3",
   "language": "python",
   "name": "python3"
  },
  "language_info": {
   "codemirror_mode": {
    "name": "ipython",
    "version": 3
   },
   "file_extension": ".py",
   "mimetype": "text/x-python",
   "name": "python",
   "nbconvert_exporter": "python",
   "pygments_lexer": "ipython3",
   "version": "3.6.4"
  }
 },
 "nbformat": 4,
 "nbformat_minor": 2
}

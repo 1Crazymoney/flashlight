{
 "cells": [
  {
   "cell_type": "code",
   "execution_count": 3,
   "metadata": {},
   "outputs": [],
   "source": [
    "import sox"
   ]
  },
  {
   "cell_type": "code",
   "execution_count": 4,
   "metadata": {},
   "outputs": [],
   "source": [
    "transformer = sox.Transformer()"
   ]
  },
  {
   "cell_type": "code",
   "execution_count": 9,
   "metadata": {},
   "outputs": [],
   "source": [
    "with open(\"/checkpoint/antares/datasets/wsj/lists/nov93dev.lst.fixed\", \"r\") as f:\n",
    "    names = [line.strip().split(\" \")[1] for line in f]"
   ]
  },
  {
   "cell_type": "code",
   "execution_count": 12,
   "metadata": {},
   "outputs": [],
   "source": [
    "for name in names:\n",
    "    dst = \"/checkpoint/antares/experiments/fl_new_master/augposemb/asr/wsj_perturb/nov93dev_\" + name.split(\"/\")[-1] + \".tempo1.2\"\n",
    "    !sox -t flac $name -t flac $dst tempo -s 1.2"
   ]
  },
  {
   "cell_type": "code",
   "execution_count": 13,
   "metadata": {},
   "outputs": [],
   "source": [
    "with open(\"/checkpoint/antares/datasets/wsj/lists/nov93dev.lst.fixed\", \"r\") as f, open(\"/checkpoint/antares/experiments/fl_new_master/augposemb/asr/wsj_perturb/nov93dev_tempo1.2.lst\", \"w\") as fout:\n",
    "    for line in f:\n",
    "        r = line.strip().split(\" \")\n",
    "        r[1] = \"/checkpoint/antares/experiments/fl_new_master/augposemb/asr/wsj_perturb/nov93dev_\" + r[1].split(\"/\")[-1] + \".tempo1.2\"\n",
    "        fout.write(\" \".join(r) + \"\\n\")"
   ]
  },
  {
   "cell_type": "code",
   "execution_count": null,
   "metadata": {},
   "outputs": [],
   "source": [
    "/checkpoint/antares/experiments/fl_new_master/augposemb/asr/wsj_perturb/nov93dev_tempo1.2.lst"
   ]
  },
  {
   "cell_type": "code",
   "execution_count": null,
   "metadata": {},
   "outputs": [],
   "source": []
  }
 ],
 "metadata": {
  "kernelspec": {
   "display_name": "Python 3",
   "language": "python",
   "name": "python3"
  },
  "language_info": {
   "codemirror_mode": {
    "name": "ipython",
    "version": 3
   },
   "file_extension": ".py",
   "mimetype": "text/x-python",
   "name": "python",
   "nbconvert_exporter": "python",
   "pygments_lexer": "ipython3",
   "version": "3.6.4"
  }
 },
 "nbformat": 4,
 "nbformat_minor": 2
}

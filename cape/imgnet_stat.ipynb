{
 "cells": [
  {
   "cell_type": "code",
   "execution_count": 1,
   "metadata": {},
   "outputs": [
    {
     "name": "stdout",
     "output_type": "stream",
     "text": [
      "Populating the interactive namespace from numpy and matplotlib\n"
     ]
    }
   ],
   "source": [
    "%pylab inline"
   ]
  },
  {
   "cell_type": "code",
   "execution_count": 2,
   "metadata": {},
   "outputs": [],
   "source": [
    "images = []\n",
    "folders = !ls /datasets01/imagenet_full_size/061417/val/\n",
    "for f in folders:\n",
    "    path = \"/datasets01/imagenet_full_size/061417/val/\" + f\n",
    "    img = !ls $path\n",
    "    for k in img:\n",
    "        images.append(path + \"/\" + k)"
   ]
  },
  {
   "cell_type": "code",
   "execution_count": 3,
   "metadata": {},
   "outputs": [
    {
     "data": {
      "text/plain": [
       "50000"
      ]
     },
     "execution_count": 3,
     "metadata": {},
     "output_type": "execute_result"
    }
   ],
   "source": [
    "len(images)"
   ]
  },
  {
   "cell_type": "code",
   "execution_count": 4,
   "metadata": {},
   "outputs": [],
   "source": [
    "import PIL"
   ]
  },
  {
   "cell_type": "code",
   "execution_count": 5,
   "metadata": {},
   "outputs": [],
   "source": [
    "sizes = []\n",
    "for img in images:\n",
    "    img_read = PIL.Image.open(img)\n",
    "    sizes.append(img_read.size)"
   ]
  },
  {
   "cell_type": "code",
   "execution_count": 6,
   "metadata": {},
   "outputs": [
    {
     "data": {
      "text/plain": [
       "50000"
      ]
     },
     "execution_count": 6,
     "metadata": {},
     "output_type": "execute_result"
    }
   ],
   "source": [
    "len(sizes)"
   ]
  },
  {
   "cell_type": "code",
   "execution_count": 7,
   "metadata": {},
   "outputs": [
    {
     "data": {
      "text/plain": [
       "5215"
      ]
     },
     "execution_count": 7,
     "metadata": {},
     "output_type": "execute_result"
    }
   ],
   "source": [
    "len(set(sizes))"
   ]
  },
  {
   "cell_type": "code",
   "execution_count": 8,
   "metadata": {},
   "outputs": [],
   "source": [
    "from collections import defaultdict\n",
    "number = defaultdict(int)\n",
    "for s in sizes:\n",
    "    number[s] += 1"
   ]
  },
  {
   "cell_type": "code",
   "execution_count": 21,
   "metadata": {},
   "outputs": [],
   "source": [
    "v = numpy.array(list(number.values()))\n",
    "k = numpy.array(list(number.keys()))\n",
    "k = k[numpy.argsort(v)[::-1]]\n",
    "v = v[numpy.argsort(v)[::-1]]"
   ]
  },
  {
   "cell_type": "code",
   "execution_count": 23,
   "metadata": {},
   "outputs": [
    {
     "data": {
      "text/plain": [
       "array([[500, 375],\n",
       "       [375, 500],\n",
       "       [500, 333],\n",
       "       [500, 500],\n",
       "       [500, 334],\n",
       "       [333, 500],\n",
       "       [500, 400],\n",
       "       [500, 335],\n",
       "       [334, 500],\n",
       "       [500, 332]])"
      ]
     },
     "execution_count": 23,
     "metadata": {},
     "output_type": "execute_result"
    }
   ],
   "source": [
    "k[:10]"
   ]
  },
  {
   "cell_type": "code",
   "execution_count": 45,
   "metadata": {},
   "outputs": [
    {
     "name": "stdout",
     "output_type": "stream",
     "text": [
      "[140  64]\n",
      "[54 64]\n"
     ]
    }
   ],
   "source": [
    "a = []\n",
    "b = []\n",
    "c = []\n",
    "d = []\n",
    "for l in k:\n",
    "    a.append(l[0])\n",
    "    b.append(l[1])\n",
    "    c.append(max(l[0], l[1]))\n",
    "    d.append(min(l[0], l[1]))\n",
    "    if l[0] == 64 or l[1] == 64:\n",
    "        print(l)"
   ]
  },
  {
   "cell_type": "code",
   "execution_count": 42,
   "metadata": {},
   "outputs": [
    {
     "data": {
      "text/plain": [
       "(64, 5005)"
      ]
     },
     "execution_count": 42,
     "metadata": {},
     "output_type": "execute_result"
    }
   ],
   "source": [
    "min(c), max(c)"
   ]
  },
  {
   "cell_type": "code",
   "execution_count": 52,
   "metadata": {},
   "outputs": [],
   "source": [
    "d = numpy.array(d)"
   ]
  },
  {
   "cell_type": "code",
   "execution_count": 74,
   "metadata": {},
   "outputs": [
    {
     "data": {
      "text/plain": [
       "(83, 248, 510, 887, 1414, 2022, 2446)"
      ]
     },
     "execution_count": 74,
     "metadata": {},
     "output_type": "execute_result"
    }
   ],
   "source": [
    "numpy.sum(d < 100), numpy.sum(d < 150) , numpy.sum(d < 200), numpy.sum(d < 250) , numpy.sum(d < 300), numpy.sum(d < 350), numpy.sum(d < 384) "
   ]
  },
  {
   "cell_type": "code",
   "execution_count": 75,
   "metadata": {},
   "outputs": [
    {
     "data": {
      "text/plain": [
       "'/datasets01/imagenet_full_size/061417/val/n01440764/ILSVRC2012_val_00000293.JPEG'"
      ]
     },
     "execution_count": 75,
     "metadata": {},
     "output_type": "execute_result"
    }
   ],
   "source": [
    "images[0]"
   ]
  },
  {
   "cell_type": "code",
   "execution_count": 79,
   "metadata": {},
   "outputs": [],
   "source": [
    "import os \n",
    "prefix = \"/checkpoint/antares/experiments/fl_new_master/augposemb/vit/imagenet_bins/\"\n",
    "\n",
    "for low, high in  [(385, 1e)]:#[(0, 100), (101, 150), (151, 200), (201, 200), (251, 300), (301, 350), (351, 384)]:\n",
    "    path = prefix + \"eval_{}_{}\".format(low, high)\n",
    "    !mkdir $pathss\n",
    "    for img, s in zip(images, sizes):\n",
    "        class_name = img.split(\"/\")\n",
    "        path_folder = path + \"/\" + img.split(\"/\")[-2]\n",
    "        path_full = path_folder + \"/\" + img.split(\"/\")[-1]\n",
    "        if low <= min(s[0], s[1]) <= high:\n",
    "            if not os.path.exists(path_folder):\n",
    "                !mkdir -p $path_folder\n",
    "            !cp $img $path_full"
   ]
  },
  {
   "cell_type": "code",
   "execution_count": 89,
   "metadata": {},
   "outputs": [
    {
     "name": "stdout",
     "output_type": "stream",
     "text": [
      "mkdir: cannot create directory ‘/checkpoint/antares/experiments/fl_new_master/augposemb/vit/imagenet_bins/eval_384_10000’: File exists\n"
     ]
    }
   ],
   "source": [
    "import os \n",
    "prefix = \"/checkpoint/antares/experiments/fl_new_master/augposemb/vit/imagenet_bins/\"\n",
    "\n",
    "for low, high in [(0, 100), (101, 150), (151, 200), (201, 250), (251, 300), (301, 350), (351, 384), (385, 10000)]:\n",
    "    path = prefix + \"eval_{}_{}\".format(low, high)\n",
    "    !mkdir $path\n",
    "    for img, s in zip(images, sizes):\n",
    "        class_name = img.split(\"/\")\n",
    "        path_folder = path + \"/\" + img.split(\"/\")[-2]\n",
    "        path_full = path_folder + \"/\" + img.split(\"/\")[-1]\n",
    "        if low <= min(s[0], s[1]) <= high:\n",
    "            if not os.path.exists(path_folder):\n",
    "                !mkdir -p $path_folder\n",
    "            !cp $img $path_full"
   ]
  },
  {
   "cell_type": "code",
   "execution_count": 96,
   "metadata": {},
   "outputs": [
    {
     "name": "stdout",
     "output_type": "stream",
     "text": [
      "mkdir: cannot create directory ‘/checkpoint/antares/experiments/fl_new_master/augposemb/vit/imagenet_bins/eval_max_201_250’: File exists\n"
     ]
    }
   ],
   "source": [
    "import os \n",
    "prefix = \"/checkpoint/antares/experiments/fl_new_master/augposemb/vit/imagenet_bins/\"\n",
    "\n",
    "for low, high in [(201, 250)]: #[(0, 100), (101, 150), (151, 200), (201, 250), (251, 300), (301, 350), (351, 384), (385, 10000)]:\n",
    "    path = prefix + \"eval_max_{}_{}\".format(low, high)\n",
    "    !mkdir $path\n",
    "    for img, s in zip(images, sizes):\n",
    "        class_name = img.split(\"/\")\n",
    "        path_folder = path + \"/\" + img.split(\"/\")[-2]\n",
    "        path_full = path_folder + \"/\" + img.split(\"/\")[-1]\n",
    "        if low <= max(s[0], s[1]) <= high:\n",
    "            if not os.path.exists(path_folder):\n",
    "                !mkdir -p $path_folder\n",
    "            !cp $img $path_full"
   ]
  },
  {
   "cell_type": "code",
   "execution_count": 95,
   "metadata": {},
   "outputs": [
    {
     "name": "stdout",
     "output_type": "stream",
     "text": [
      "100\n",
      "150\n",
      "200\n",
      "250\n",
      "300\n",
      "350\n",
      "380\n",
      "3646\n"
     ]
    }
   ],
   "source": [
    "for low, high in  [(0, 100), (101, 150), (151, 200), (201, 250), (251, 300), (301, 350), (351, 384), (385, 10000)]:\n",
    "    n = 0\n",
    "    min_val = 100000\n",
    "    max_val = 0\n",
    "    for img, s in zip(images, sizes):\n",
    "        if low <= max(s[0], s[1]) <= high:\n",
    "            n += 1\n",
    "            min_val = min(min_val, min(s[0], s[1]))\n",
    "            max_val = max(max_val, min(s[0], s[1]))\n",
    "#     print(low, high, n, min_val, max_val)\n",
    "    print(max_val)"
   ]
  },
  {
   "cell_type": "code",
   "execution_count": 50,
   "metadata": {},
   "outputs": [
    {
     "data": {
      "image/png": "[encoded data removed]",
      "text/plain": [
       "<Figure size 432x288 with 1 Axes>"
      ]
     },
     "metadata": {},
     "output_type": "display_data"
    }
   ],
   "source": [
    "plt.hist(d, bins=numpy.arange(300));"
   ]
  },
  {
   "cell_type": "code",
   "execution_count": 33,
   "metadata": {},
   "outputs": [
    {
     "data": {
      "text/plain": [
       "(0.0, 700.0)"
      ]
     },
     "execution_count": 33,
     "metadata": {},
     "output_type": "execute_result"
    },
    {
     "data": {
      "image/png": "[encoded data removed]",
      "text/plain": [
       "<Figure size 432x288 with 1 Axes>"
      ]
     },
     "metadata": {},
     "output_type": "display_data"
    }
   ],
   "source": [
    "plt.scatter(a, b, s=5, alpha=0.1)\n",
    "plt.ylim(0, 700)\n",
    "plt.xlim(0, 700)"
   ]
  },
  {
   "cell_type": "code",
   "execution_count": 17,
   "metadata": {},
   "outputs": [
    {
     "data": {
      "text/plain": [
       "(array([[ 500,  375],\n",
       "        [ 500,  399],\n",
       "        [ 375,  500],\n",
       "        [ 500,  500],\n",
       "        [ 334,  500],\n",
       "        [1024,  768],\n",
       "        [ 500,  333],\n",
       "        [ 500,  334],\n",
       "        [ 640,  480],\n",
       "        [ 500,  332],\n",
       "        [ 335,  500],\n",
       "        [ 500,  336],\n",
       "        [ 500,  374],\n",
       "        [ 400,  500],\n",
       "        [ 500,  354],\n",
       "        [ 500,  357],\n",
       "        [ 500,  335],\n",
       "        [ 800,  600],\n",
       "        [ 500,  400],\n",
       "        [ 500,  377],\n",
       "        [ 376,  500],\n",
       "        [ 500,  376],\n",
       "        [ 500,  383],\n",
       "        [ 500,  378],\n",
       "        [ 333,  500],\n",
       "        [ 332,  500]]),\n",
       " array([15487,   108,  4774,  1610,   372,   157,  2783,  1017,   317,\n",
       "          348,   126,   110,   241,   284,   108,   217,   376,   187,\n",
       "          733,   179,   104,   262,   101,   120,   998,   125]))"
      ]
     },
     "execution_count": 17,
     "metadata": {},
     "output_type": "execute_result"
    }
   ],
   "source": [
    "k[v > 100], v[v > 100]"
   ]
  },
  {
   "cell_type": "code",
   "execution_count": 10,
   "metadata": {},
   "outputs": [
    {
     "data": {
      "text/plain": [
       "[<matplotlib.lines.Line2D at 0x7effc0229ba8>]"
      ]
     },
     "execution_count": 10,
     "metadata": {},
     "output_type": "execute_result"
    },
    {
     "data": {
      "image/png": "[encoded data removed]",
      "text/plain": [
       "<Figure size 432x288 with 1 Axes>"
      ]
     },
     "metadata": {},
     "output_type": "display_data"
    }
   ],
   "source": [
    "plt.plot(numpy.sort(list(number.values())))"
   ]
  },
  {
   "cell_type": "code",
   "execution_count": null,
   "metadata": {},
   "outputs": [],
   "source": []
  }
 ],
 "metadata": {
  "kernelspec": {
   "display_name": "Python 3",
   "language": "python",
   "name": "python3"
  },
  "language_info": {
   "codemirror_mode": {
    "name": "ipython",
    "version": 3
   },
   "file_extension": ".py",
   "mimetype": "text/x-python",
   "name": "python",
   "nbconvert_exporter": "python",
   "pygments_lexer": "ipython3",
   "version": "3.6.4"
  }
 },
 "nbformat": 4,
 "nbformat_minor": 2
}

{
 "cells": [
  {
   "cell_type": "code",
   "execution_count": 1,
   "metadata": {},
   "outputs": [
    {
     "name": "stdout",
     "output_type": "stream",
     "text": [
      "Populating the interactive namespace from numpy and matplotlib\n"
     ]
    }
   ],
   "source": [
    "%pylab inline"
   ]
  },
  {
   "cell_type": "code",
   "execution_count": 2,
   "metadata": {},
   "outputs": [],
   "source": [
    "import PIL"
   ]
  },
  {
   "cell_type": "code",
   "execution_count": 45,
   "metadata": {},
   "outputs": [
    {
     "data": {
      "image/png": "[encoded data removed]",
      "text/plain": [
       "<PIL.PngImagePlugin.PngImageFile image mode=1 size=105x105 at 0x7F854041B908>"
      ]
     },
     "execution_count": 45,
     "metadata": {},
     "output_type": "execute_result"
    }
   ],
   "source": [
    "img = PIL.Image.open(\"/checkpoint/antares/experiments/fl_new_master/augposemb/vit/omniglot/images_evaluation/val/Malayalam_character01/1272_09.png\")\n",
    "img"
   ]
  },
  {
   "cell_type": "code",
   "execution_count": 47,
   "metadata": {},
   "outputs": [
    {
     "data": {
      "image/png": "[encoded data removed]",
      "text/plain": [
       "<PIL.PngImagePlugin.PngImageFile image mode=1 size=105x105 at 0x7F8770EA9860>"
      ]
     },
     "execution_count": 47,
     "metadata": {},
     "output_type": "execute_result"
    }
   ],
   "source": [
    "img = PIL.Image.open(\"/checkpoint/antares/experiments/fl_new_master/augposemb/vit/omniglot/images_evaluation/train/Malayalam_character01/1272_20.png\")\n",
    "img"
   ]
  },
  {
   "cell_type": "code",
   "execution_count": 50,
   "metadata": {},
   "outputs": [
    {
     "data": {
      "image/png": "[encoded data removed]",
      "text/plain": [
       "<PIL.Image.Image image mode=1 size=16x16 at 0x7F854041B940>"
      ]
     },
     "execution_count": 50,
     "metadata": {},
     "output_type": "execute_result"
    }
   ],
   "source": [
    "new_img = img.resize((16, 16))\n",
    "new_img"
   ]
  },
  {
   "cell_type": "code",
   "execution_count": 51,
   "metadata": {},
   "outputs": [],
   "source": [
    "a = numpy.asarray(new_img.convert(\"L\"))"
   ]
  },
  {
   "cell_type": "code",
   "execution_count": 52,
   "metadata": {},
   "outputs": [
    {
     "data": {
      "text/plain": [
       "(0, 255)"
      ]
     },
     "execution_count": 52,
     "metadata": {},
     "output_type": "execute_result"
    }
   ],
   "source": [
    "a.min(), a.max()"
   ]
  },
  {
   "cell_type": "code",
   "execution_count": 53,
   "metadata": {},
   "outputs": [
    {
     "data": {
      "text/plain": [
       "array([[255, 255, 255, 255, 255, 255, 255, 255, 255, 255, 255, 255, 255,\n",
       "        255, 255, 255],\n",
       "       [255, 255, 255, 255, 255, 255, 255, 255, 255, 255, 255, 255, 255,\n",
       "        255, 255, 255],\n",
       "       [255, 255, 255, 255, 255, 255, 255, 255, 255, 255, 255, 255, 255,\n",
       "        255, 255, 255],\n",
       "       [255, 255, 255, 255, 255, 255, 255, 255, 255, 255, 255, 255, 255,\n",
       "        255, 255, 255],\n",
       "       [255, 255, 255, 255, 255, 255, 255, 255, 255, 255, 255, 255, 255,\n",
       "        255, 255, 255],\n",
       "       [255, 255, 255, 255, 255, 255, 255, 255, 255, 255, 255, 255, 255,\n",
       "        255, 255, 255],\n",
       "       [255, 255, 255, 255,   0,   0,   0,   0,   0, 255, 255, 255, 255,\n",
       "        255, 255, 255],\n",
       "       [255, 255, 255,   0, 255,   0,   0, 255, 255,   0, 255, 255, 255,\n",
       "        255, 255, 255],\n",
       "       [255, 255, 255,   0,   0,   0, 255, 255, 255, 255, 255, 255, 255,\n",
       "        255, 255, 255],\n",
       "       [255, 255, 255,   0, 255,   0, 255,   0,   0, 255, 255, 255, 255,\n",
       "        255, 255, 255],\n",
       "       [255, 255, 255, 255,   0,   0,   0, 255, 255, 255, 255,   0, 255,\n",
       "        255, 255, 255],\n",
       "       [255, 255,   0, 255, 255, 255,   0,   0,   0,   0,   0,   0, 255,\n",
       "        255, 255, 255],\n",
       "       [255, 255, 255, 255,   0, 255, 255, 255, 255, 255, 255, 255, 255,\n",
       "        255, 255, 255],\n",
       "       [255, 255, 255, 255, 255, 255, 255, 255, 255, 255, 255, 255, 255,\n",
       "        255, 255, 255],\n",
       "       [255, 255, 255, 255, 255, 255, 255, 255, 255, 255, 255, 255, 255,\n",
       "        255, 255, 255],\n",
       "       [255, 255, 255, 255, 255, 255, 255, 255, 255, 255, 255, 255, 255,\n",
       "        255, 255, 255]], dtype=uint8)"
      ]
     },
     "execution_count": 53,
     "metadata": {},
     "output_type": "execute_result"
    }
   ],
   "source": [
    "a"
   ]
  },
  {
   "cell_type": "code",
   "execution_count": 7,
   "metadata": {},
   "outputs": [
    {
     "data": {
      "text/plain": [
       "(105, 105)"
      ]
     },
     "execution_count": 7,
     "metadata": {},
     "output_type": "execute_result"
    }
   ],
   "source": [
    "img.size"
   ]
  },
  {
   "cell_type": "code",
   "execution_count": 15,
   "metadata": {},
   "outputs": [],
   "source": [
    "pref = !ls /checkpoint/antares/experiments/fl_new_master/augposemb/vit/omniglot/images_evaluation"
   ]
  },
  {
   "cell_type": "code",
   "execution_count": 22,
   "metadata": {},
   "outputs": [],
   "source": [
    "for k in pref:\n",
    "    classes = !ls /checkpoint/antares/experiments/fl_new_master/augposemb/vit/omniglot/images_evaluation/$k\n",
    "    for ch in classes:\n",
    "        path = \"/checkpoint/antares/experiments/fl_new_master/augposemb/vit/omniglot/images_evaluation/\" + k + \"/\" + ch\n",
    "        path2 = \"/checkpoint/antares/experiments/fl_new_master/augposemb/vit/omniglot/images_evaluation/\" + k + \"_\" + ch\n",
    "        !mv $path $path2\n",
    "    path = \"/checkpoint/antares/experiments/fl_new_master/augposemb/vit/omniglot/images_evaluation/\" + k\n",
    "    !rm -rf $path"
   ]
  },
  {
   "cell_type": "code",
   "execution_count": 23,
   "metadata": {},
   "outputs": [],
   "source": [
    "import numpy"
   ]
  },
  {
   "cell_type": "code",
   "execution_count": 24,
   "metadata": {},
   "outputs": [],
   "source": [
    "numpy.random.seed(42)\n",
    "pref = !ls /checkpoint/antares/experiments/fl_new_master/augposemb/vit/omniglot/images_evaluation/train\n",
    "for label in pref:\n",
    "    imgs = !ls /checkpoint/antares/experiments/fl_new_master/augposemb/vit/omniglot/images_evaluation/train/$label\n",
    "    vl = \"/checkpoint/antares/experiments/fl_new_master/augposemb/vit/omniglot/images_evaluation/eval/\" + label\n",
    "    !mkdir $vl\n",
    "    for img in numpy.random.permutation(imgs)[:10]:\n",
    "        path = \"/checkpoint/antares/experiments/fl_new_master/augposemb/vit/omniglot/images_evaluation/train/\" + label + \"/\" + img\n",
    "        path2 = \"/checkpoint/antares/experiments/fl_new_master/augposemb/vit/omniglot/images_evaluation/eval/\" + label + \"/\" + img\n",
    "        !mv $path $path2"
   ]
  },
  {
   "cell_type": "code",
   "execution_count": 26,
   "metadata": {},
   "outputs": [],
   "source": [
    "with open(\"/checkpoint/antares/experiments/fl_new_master/augposemb/vit/omniglot/images_evaluation/labels.txt\", \"w\") as f:\n",
    "    for label in pref:\n",
    "        f.write(label + \",\" + label + \"\\n\")"
   ]
  },
  {
   "cell_type": "code",
   "execution_count": null,
   "metadata": {},
   "outputs": [],
   "source": []
  }
 ],
 "metadata": {
  "kernelspec": {
   "display_name": "Python 3",
   "language": "python",
   "name": "python3"
  },
  "language_info": {
   "codemirror_mode": {
    "name": "ipython",
    "version": 3
   },
   "file_extension": ".py",
   "mimetype": "text/x-python",
   "name": "python",
   "nbconvert_exporter": "python",
   "pygments_lexer": "ipython3",
   "version": "3.6.4"
  }
 },
 "nbformat": 4,
 "nbformat_minor": 2
}
